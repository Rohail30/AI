{
 "cells": [
  {
   "cell_type": "markdown",
   "id": "9ca15db7",
   "metadata": {},
   "source": [
    "#  BFS Implementation"
   ]
  },
  {
   "cell_type": "code",
   "execution_count": 28,
   "id": "c8451ce2",
   "metadata": {},
   "outputs": [
    {
     "data": {
      "text/plain": [
       "defaultdict(list,\n",
       "            {'2': ['4', '6'],\n",
       "             '4': ['2', '8', '10'],\n",
       "             '6': ['2', '12', '14'],\n",
       "             '8': ['4', '16', '18'],\n",
       "             '10': ['4', '20', '22'],\n",
       "             '12': ['6', '24'],\n",
       "             '14': ['6'],\n",
       "             '16': ['8'],\n",
       "             '18': ['8'],\n",
       "             '20': ['10'],\n",
       "             '22': ['10'],\n",
       "             '24': ['12']})"
      ]
     },
     "execution_count": 28,
     "metadata": {},
     "output_type": "execute_result"
    }
   ],
   "source": [
    "from collections import defaultdict\n",
    "\n",
    "def generateAdjacencyLst(edges):\n",
    "    adjacencyList = defaultdict(list)\n",
    "    for u, v in edges:\n",
    "        adjacencyList[u].append(v) \n",
    "        adjacencyList[v].append(u)\n",
    "    return adjacencyList\n",
    "\n",
    "# edges = [['A', 'B'], ['A', 'C'], ['B', 'D'], ['B', 'E'], \n",
    "#          ['C', 'F'], ['C', 'G'], ['D', 'H'], ['D', 'I'], \n",
    "#          ['E', 'J'], ['E', 'K'], ['F', 'L'], ['F', 'M']]\n",
    "\n",
    "# A=2, B=4, C=6, D=8, E=10, F=12, G=14, H=16, I=18, J=20, K=22, L=24, M=26\n",
    "\n",
    "edges = [['2', '4'], ['2', '6'], ['4', '8'], ['4', '10'], \n",
    "         ['6', '12'], ['6', '14'], ['8', '16'], ['8', '18'], \n",
    "         ['10', '20'], ['10', '22'], ['12', '24']]\n",
    "adjacencyList = generateAdjacencyLst(edges)\n",
    "adjacencyList\n",
    "\n"
   ]
  },
  {
   "cell_type": "code",
   "execution_count": 29,
   "id": "3806790f",
   "metadata": {},
   "outputs": [
    {
     "data": {
      "text/plain": [
       "['2', '4', '6', '8', '10', '12', '14', '16', '18', '20', '22', '24']"
      ]
     },
     "execution_count": 29,
     "metadata": {},
     "output_type": "execute_result"
    }
   ],
   "source": [
    "def bfs(adjacencyList, vertex):\n",
    "    visitedSet = set()\n",
    "    queue = []\n",
    "    visitedSet.add(vertex)\n",
    "    queue.append(vertex)\n",
    "\n",
    "    result = [] \n",
    "    while queue:\n",
    "        v = queue[0] \n",
    "        result.append(v) \n",
    "        queue = queue[1:] \n",
    "        for neighbor in adjacencyList[v]: \n",
    "            if neighbor not in visitedSet:\n",
    "                visitedSet.add(neighbor) \n",
    "                queue.append(neighbor)\n",
    "    return result\n",
    "\n",
    "bfs(adjacencyList, '2')"
   ]
  }
 ],
 "metadata": {
  "kernelspec": {
   "display_name": "Python 3 (ipykernel)",
   "language": "python",
   "name": "python3"
  },
  "language_info": {
   "codemirror_mode": {
    "name": "ipython",
    "version": 3
   },
   "file_extension": ".py",
   "mimetype": "text/x-python",
   "name": "python",
   "nbconvert_exporter": "python",
   "pygments_lexer": "ipython3",
   "version": "3.9.13"
  }
 },
 "nbformat": 4,
 "nbformat_minor": 5
}
