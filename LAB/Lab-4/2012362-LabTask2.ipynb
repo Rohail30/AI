{
 "cells": [
  {
   "cell_type": "code",
   "execution_count": 1,
   "id": "512fa043",
   "metadata": {},
   "outputs": [
    {
     "data": {
      "text/plain": [
       "defaultdict(list,\n",
       "            {'2': ['4', '6'],\n",
       "             '4': ['2', '8', '10'],\n",
       "             '6': ['2', '12', '14'],\n",
       "             '8': ['4', '16', '18'],\n",
       "             '10': ['4', '20', '22'],\n",
       "             '12': ['6', '24', '26'],\n",
       "             '14': ['6'],\n",
       "             '16': ['8'],\n",
       "             '18': ['8'],\n",
       "             '20': ['10'],\n",
       "             '22': ['10'],\n",
       "             '24': ['12'],\n",
       "             '26': ['12']})"
      ]
     },
     "execution_count": 1,
     "metadata": {},
     "output_type": "execute_result"
    }
   ],
   "source": [
    "from collections import defaultdict\n",
    "\n",
    "# Generate adjacency List for undirected graph\n",
    "def generateAdjacencyLst(edges):\n",
    "    adjacencyList = defaultdict(list)\n",
    "    for u, v in edges:\n",
    "        adjacencyList[u].append(v)\n",
    "        adjacencyList[v].append(u)\n",
    "    return adjacencyList\n",
    "\n",
    "edges = [['2', '4'], ['2', '6'], ['4', '8'], ['4', '10'], \n",
    "         ['6', '12'], ['6', '14'], ['8', '16'], ['8', '18'], \n",
    "         ['10', '20'], ['10', '22'], ['12', '24'], ['12', '26']]\n",
    "adjacencyList = generateAdjacencyLst(edges)\n",
    "adjacencyList\n"
   ]
  },
  {
   "cell_type": "code",
   "execution_count": 2,
   "id": "93b16f2d",
   "metadata": {},
   "outputs": [
    {
     "name": "stdout",
     "output_type": "stream",
     "text": [
      "['2', '4', '8', '16', '18', '10', '20', '22', '6', '12', '24', '26', '14']\n"
     ]
    }
   ],
   "source": [
    "# find dfs traversal from starting vertex\n",
    "def dfs(adjacencyList, vertex, visitedSet = None, path = None) :\n",
    "    # create memo once in top-Level call\n",
    "    if visitedSet is None:\n",
    "        visitedSet = set() # empty set\n",
    "    if path is None:\n",
    "        path = [] # empty list\n",
    "\n",
    "    visitedSet.add(vertex) # A is added to the visited set\n",
    "    path.append(vertex) # A is added to the path list\n",
    "    if vertex in adjacencyList: # true \n",
    "        for neighbor in adjacencyList[vertex]: # iterate the adjency list for B and C as neighbor values\n",
    "            if neighbor not in visitedSet: # B and C are not in visited list yet so true\n",
    "                dfs(adjacencyList, neighbor, visitedSet, path) # recursive call and now vertex is B\n",
    "    return path\n",
    "print(dfs(adjacencyList, '2'))"
   ]
  }
 ],
 "metadata": {
  "kernelspec": {
   "display_name": "Python 3 (ipykernel)",
   "language": "python",
   "name": "python3"
  },
  "language_info": {
   "codemirror_mode": {
    "name": "ipython",
    "version": 3
   },
   "file_extension": ".py",
   "mimetype": "text/x-python",
   "name": "python",
   "nbconvert_exporter": "python",
   "pygments_lexer": "ipython3",
   "version": "3.9.13"
  }
 },
 "nbformat": 4,
 "nbformat_minor": 5
}
