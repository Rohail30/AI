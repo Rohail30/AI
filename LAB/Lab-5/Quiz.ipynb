{
 "cells": [
  {
   "cell_type": "markdown",
   "id": "5d60729b",
   "metadata": {},
   "source": [
    "## Question: 1 \n"
   ]
  },
  {
   "cell_type": "code",
   "execution_count": 8,
   "id": "8c830263",
   "metadata": {},
   "outputs": [
    {
     "name": "stdout",
     "output_type": "stream",
     "text": [
      "Enter gpa for course-1: 3.5\n",
      "Enter Credit Hours: 3\n",
      "Enter gpa for course-2: 3.8\n",
      "Enter Credit Hours: 1\n",
      "Enter gpa for course-3: 2.5\n",
      "Enter Credit Hours: 3\n",
      "CGPA:  3.1142857142857143\n"
     ]
    }
   ],
   "source": [
    "# Input for course gpa and credit hours\n",
    "C1 = float(input(\"Enter gpa for course-1: \"))\n",
    "C1H = float(input(\"Enter Credit Hours: \"))\n",
    "C2 = float(input(\"Enter gpa for course-2: \"))\n",
    "C2H = float(input(\"Enter Credit Hours: \"))\n",
    "C3 = float(input(\"Enter gpa for course-3: \"))\n",
    "C3H = float(input(\"Enter Credit Hours: \"))\n",
    "\n",
    "# total credit hours\n",
    "totalCH = C1H+C2H+C3H\n",
    "\n",
    "# applying formula\n",
    "sumof = ((C1*C1H)+(C2*C2H)+(C3*C3H))/totalCH\n",
    "print(\"CGPA: \", sumof)"
   ]
  },
  {
   "cell_type": "markdown",
   "id": "85ba87c3",
   "metadata": {},
   "source": [
    "## Question: 2"
   ]
  },
  {
   "cell_type": "code",
   "execution_count": 7,
   "id": "dd2b0bf5",
   "metadata": {},
   "outputs": [
    {
     "name": "stdout",
     "output_type": "stream",
     "text": [
      "Enter the number for table2\n"
     ]
    },
    {
     "data": {
      "text/plain": [
       "[[2, 2],\n",
       " [2, 4],\n",
       " [4, 6],\n",
       " [4, 8],\n",
       " [6, 10],\n",
       " [6, 12],\n",
       " [8, 14],\n",
       " [8, 16],\n",
       " [10, 18],\n",
       " [12, 20]]"
      ]
     },
     "execution_count": 7,
     "metadata": {},
     "output_type": "execute_result"
    }
   ],
   "source": [
    "## import default dictionary library\n",
    "## mkae a empty list of dictionary\n",
    "## \n",
    "\n",
    "import defaultdict as dic\n",
    "\n",
    "def adjencyList(adjLsit,vertex):\n",
    "    newList = new defaultdic(list)\n",
    "    \n",
    "    for u,v in vertex:\n",
    "        vertex[u]= vertex[u].append[v]\n",
    "        vertex[v]= vertex[v].append[u]\n",
    "        \n",
    "        \n",
    "        \n",
    "x = int(input(\"Enter the number for table\"))\n",
    "edges = [[x,x],[x,x*2],[x*2,x*3],[x*2,x*4],[x*3,x*5],[x*3,x*6],[x*4,x*7],[x*4,x*8],[x*5,x*9],[x*6,x*10]]\n",
    "edges\n"
   ]
  }
 ],
 "metadata": {
  "kernelspec": {
   "display_name": "Python 3 (ipykernel)",
   "language": "python",
   "name": "python3"
  },
  "language_info": {
   "codemirror_mode": {
    "name": "ipython",
    "version": 3
   },
   "file_extension": ".py",
   "mimetype": "text/x-python",
   "name": "python",
   "nbconvert_exporter": "python",
   "pygments_lexer": "ipython3",
   "version": "3.9.13"
  }
 },
 "nbformat": 4,
 "nbformat_minor": 5
}
